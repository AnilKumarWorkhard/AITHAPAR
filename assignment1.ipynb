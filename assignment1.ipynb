{
  "cells": [
    {
      "cell_type": "markdown",
      "metadata": {
        "id": "view-in-github",
        "colab_type": "text"
      },
      "source": [
        "<a href=\"https://colab.research.google.com/github/AnilKumarWorkhard/AITHAPAR/blob/main/assignment1.ipynb\" target=\"_parent\"><img src=\"https://colab.research.google.com/assets/colab-badge.svg\" alt=\"Open In Colab\"/></a>"
      ]
    },
    {
      "cell_type": "code",
      "execution_count": null,
      "id": "0f37178e",
      "metadata": {
        "id": "0f37178e",
        "outputId": "3dd0489a-d3e0-496c-a1ed-8375b6cf5855"
      },
      "outputs": [
        {
          "name": "stdout",
          "output_type": "stream",
          "text": [
            "final array  [5 4 6 3 2 1]\n"
          ]
        }
      ],
      "source": [
        "#question 1 (Reverse the NumPy array:)\n",
        "import numpy as np\n",
        "arr = np.array([1, 2, 3, 6, 4, 5])\n",
        "answer = np.flip(arr)\n",
        "print(\"final array \",answer)"
      ]
    },
    {
      "cell_type": "code",
      "execution_count": null,
      "id": "f9e027fc",
      "metadata": {
        "id": "f9e027fc",
        "outputId": "eb08531a-3921-4c53-f5c6-77210ea4c5a7"
      },
      "outputs": [
        {
          "name": "stdout",
          "output_type": "stream",
          "text": [
            "[1 2 3 2 4 5 1 2 3]\n"
          ]
        }
      ],
      "source": [
        "#question 2 (Flatten the NumPy array:)\n",
        "import numpy as np\n",
        "\n",
        "arr = np.array([[1,2,3], [2,4,5],[1,2,3]])\n",
        "\n",
        "answer = arr.flatten()\n",
        "\n",
        "print( answer )"
      ]
    },
    {
      "cell_type": "code",
      "execution_count": null,
      "id": "c4ed9211",
      "metadata": {
        "id": "c4ed9211",
        "outputId": "5d461c1e-e2ce-4c01-ad37-d0dc4afc92e2"
      },
      "outputs": [
        {
          "name": "stdout",
          "output_type": "stream",
          "text": [
            "[[ True  True]\n",
            " [ True  True]]\n"
          ]
        }
      ],
      "source": [
        "#question 3 (Compare the numpy arrays:)\n",
        "import numpy as np\n",
        "\n",
        "array1 = np.array([[1, 2], [3, 4]])\n",
        "array2 = np.array([[1, 2], [3, 4]])\n",
        "print(array1 == array2)\n"
      ]
    },
    {
      "cell_type": "code",
      "execution_count": null,
      "id": "bdc661a7",
      "metadata": {
        "id": "bdc661a7",
        "outputId": "750de057-998b-4cbf-a9cd-8ae682aa216a"
      },
      "outputs": [
        {
          "name": "stdout",
          "output_type": "stream",
          "text": [
            "Array x: Most frequent value is 1 at indices [0 5 7 8 9]\n",
            "Array y: Most frequent value is 1 at indices [0 1 2]\n"
          ]
        }
      ],
      "source": [
        "#question 4 (Find the most frequent value and their indice(s) in the following arrays:\n",
        "\n",
        "import numpy as np\n",
        "from collections import Counter\n",
        "\n",
        "def most_frequent_value(arr):\n",
        "    # Count the frequency of each element in the array\n",
        "    freq = Counter(arr)\n",
        "\n",
        "    # Find the most frequent value\n",
        "    most_frequent = freq.most_common(1)[0][0]\n",
        "\n",
        "    # Find the indices of the most frequent value\n",
        "    indices = np.where(arr == most_frequent)[0]\n",
        "\n",
        "    return most_frequent, indices\n",
        "\n",
        "# Arrays\n",
        "x = np.array([1, 2, 3, 4, 5, 1, 2, 1, 1, 1])\n",
        "y = np.array([1, 1, 1, 2, 3, 4, 2, 4, 3, 3])\n",
        "\n",
        "# Finding the most frequent value and indices for x\n",
        "most_frequent_x, indices_x = most_frequent_value(x)\n",
        "print(f\"Array x: Most frequent value is {most_frequent_x} at indices {indices_x}\")\n",
        "\n",
        "# Finding the most frequent value and indices for y\n",
        "most_frequent_y, indices_y = most_frequent_value(y)\n",
        "print(f\"Array y: Most frequent value is {most_frequent_y} at indices {indices_y}\")\n"
      ]
    },
    {
      "cell_type": "code",
      "execution_count": null,
      "id": "90f5f696",
      "metadata": {
        "id": "90f5f696",
        "outputId": "b2686667-3bb5-4ac6-d5bc-95c1d7e5dae3"
      },
      "outputs": [
        {
          "name": "stdout",
          "output_type": "stream",
          "text": [
            "45\n",
            "[[14]\n",
            " [16]\n",
            " [15]]\n",
            "[[20  9 16]]\n"
          ]
        }
      ],
      "source": [
        "#question 5\n",
        "import numpy as np\n",
        "gfg = np.matrix('[4, 1, 9; 12, 3, 1; 4, 5, 6]')\n",
        "\n",
        "# i. Sum of all elements\n",
        "answer = gfg.sum()\n",
        "\n",
        "# ii. Sum of all elements row-wise\n",
        "row_sum = np.sum(gfg, axis=1)\n",
        "\n",
        "# iii. Sum of all elements column-wise\n",
        "col_sum = np.sum(gfg, axis=0)\n",
        "\n",
        "print(answer)\n",
        "print(row_sum)\n",
        "print(col_sum)"
      ]
    },
    {
      "cell_type": "code",
      "execution_count": null,
      "id": "593355a0",
      "metadata": {
        "id": "593355a0",
        "outputId": "f164952f-7b62-4a54-9abc-543e0cd59414"
      },
      "outputs": [
        {
          "name": "stdout",
          "output_type": "stream",
          "text": [
            "Sum of diagonal elements: 176\n",
            "Eigenvalues of matrix: [98.16835147 28.097044   49.73460452]\n",
            "Eigenvectors of matrix:\n",
            "[[ 0.4574917   0.34637121 -0.15017693]\n",
            " [ 0.28447814 -0.72784061 -0.4852124 ]\n",
            " [ 0.84248058  0.59184038  0.8614034 ]]\n",
            "Inverse of matrix:\n",
            "[[ 0.02404141 -0.00911212 -0.00444671]\n",
            " [-0.01667882  0.02966905  0.0024785 ]\n",
            " [ 0.00631287 -0.01603732  0.01217379]]\n",
            "Determinant of matrix: 137180.0000000001\n"
          ]
        }
      ],
      "source": [
        "#question 6\n",
        "import numpy as np\n",
        "\n",
        "# Define the matrix\n",
        "n_array = np.array([[55, 25, 15], [30, 44, 2], [11, 45, 77]])\n",
        "\n",
        "# i. Sum of diagonal elements\n",
        "sum_diagonal = np.trace(n_array)\n",
        "\n",
        "# ii. Eigenvalues of matrix\n",
        "eigen_values = np.linalg.eigvals(n_array)\n",
        "\n",
        "# iii. Eigenvectors of matrix\n",
        "eigen_values, eigen_vectors = np.linalg.eig(n_array)\n",
        "\n",
        "# iv. Inverse of matrix\n",
        "inverse_matrix = np.linalg.inv(n_array)\n",
        "\n",
        "# v. Determinant of matrix\n",
        "determinant = np.linalg.det(n_array)\n",
        "\n",
        "# Output results\n",
        "print(f\"Sum of diagonal elements: {sum_diagonal}\")\n",
        "print(f\"Eigenvalues of matrix: {eigen_values}\")\n",
        "print(f\"Eigenvectors of matrix:\\n{eigen_vectors}\")\n",
        "print(f\"Inverse of matrix:\\n{inverse_matrix}\")\n",
        "print(f\"Determinant of matrix: {determinant}\")"
      ]
    },
    {
      "cell_type": "code",
      "execution_count": null,
      "id": "d8b00a16",
      "metadata": {
        "id": "d8b00a16",
        "outputId": "ccc9de85-941b-49cc-d5ce-326242e183b6"
      },
      "outputs": [
        {
          "name": "stdout",
          "output_type": "stream",
          "text": [
            "Case i:\n",
            "Matrix multiplication result:\n",
            "[[16 19]\n",
            " [26 31]]\n",
            "Covariance between matrices:\n",
            "[[0.66666667 1.        ]\n",
            " [1.         1.66666667]]\n",
            "\n",
            "Case ii:\n",
            "Matrix multiplication result:\n",
            "[[16 19  5]\n",
            " [26 31  8]\n",
            " [46 55 14]]\n",
            "Covariance between matrices:\n",
            "[[2.16666667 0.23333333]\n",
            " [0.23333333 5.36666667]]\n"
          ]
        }
      ],
      "source": [
        "#question 7\n",
        "import numpy as np\n",
        "\n",
        "# Case i\n",
        "p1 = np.array([[1, 2], [2, 3]])\n",
        "q1 = np.array([[4, 5], [6, 7]])\n",
        "\n",
        "# Matrix multiplication\n",
        "product1 = np.dot(p1, q1)\n",
        "\n",
        "# Flatten the matrices and find covariance\n",
        "covariance1 = np.cov(p1.flatten(), q1.flatten())\n",
        "\n",
        "# Case ii\n",
        "p2 = np.array([[1, 2], [2, 3], [4, 5]])\n",
        "q2 = np.array([[4, 5, 1], [6, 7, 2]])\n",
        "\n",
        "# Matrix multiplication\n",
        "product2 = np.dot(p2, q2)\n",
        "\n",
        "# Flatten the matrices and find covariance\n",
        "covariance2 = np.cov(p2.flatten(), q2.flatten())\n",
        "\n",
        "# Output results\n",
        "print(\"Case i:\")\n",
        "print(f\"Matrix multiplication result:\\n{product1}\")\n",
        "print(f\"Covariance between matrices:\\n{covariance1}\\n\")\n",
        "\n",
        "print(\"Case ii:\")\n",
        "print(f\"Matrix multiplication result:\\n{product2}\")\n",
        "print(f\"Covariance between matrices:\\n{covariance2}\")\n"
      ]
    },
    {
      "cell_type": "code",
      "execution_count": null,
      "id": "015919a6",
      "metadata": {
        "id": "015919a6",
        "outputId": "a2e97581-9fdf-4dfd-c3c8-3048ab63d7a4"
      },
      "outputs": [
        {
          "name": "stdout",
          "output_type": "stream",
          "text": [
            "Inner product:\n",
            "[[17 52]\n",
            " [13 62]]\n",
            "\n",
            "Outer product:\n",
            "[[ 2 10  0 10 20  6]\n",
            " [ 3 15  0 15 30  9]\n",
            " [ 4 20  0 20 40 12]\n",
            " [ 3 15  0 15 30  9]\n",
            " [ 2 10  0 10 20  6]\n",
            " [ 9 45  0 45 90 27]]\n",
            "\n",
            "Cartesian product:\n",
            "[[ 2  1]\n",
            " [ 2  5]\n",
            " [ 2  0]\n",
            " [ 2  5]\n",
            " [ 2 10]\n",
            " [ 2  3]\n",
            " [ 3  1]\n",
            " [ 3  5]\n",
            " [ 3  0]\n",
            " [ 3  5]\n",
            " [ 3 10]\n",
            " [ 3  3]\n",
            " [ 4  1]\n",
            " [ 4  5]\n",
            " [ 4  0]\n",
            " [ 4  5]\n",
            " [ 4 10]\n",
            " [ 4  3]\n",
            " [ 3  1]\n",
            " [ 3  5]\n",
            " [ 3  0]\n",
            " [ 3  5]\n",
            " [ 3 10]\n",
            " [ 3  3]\n",
            " [ 2  1]\n",
            " [ 2  5]\n",
            " [ 2  0]\n",
            " [ 2  5]\n",
            " [ 2 10]\n",
            " [ 2  3]\n",
            " [ 9  1]\n",
            " [ 9  5]\n",
            " [ 9  0]\n",
            " [ 9  5]\n",
            " [ 9 10]\n",
            " [ 9  3]]\n"
          ]
        }
      ],
      "source": [
        "#question 8\n",
        "import numpy as np\n",
        "from itertools import product\n",
        "\n",
        "# Define the matrices\n",
        "x = np.array([[2, 3, 4], [3, 2, 9]])\n",
        "y = np.array([[1, 5, 0], [5, 10, 3]])\n",
        "\n",
        "# i. Inner product\n",
        "inner_product = np.inner(x, y)\n",
        "\n",
        "# ii. Outer product\n",
        "outer_product = np.outer(x, y)\n",
        "\n",
        "# iii. Cartesian product\n",
        "cartesian_product = np.array(list(product(x.flatten(), y.flatten())))\n",
        "print(f\"Inner product:\\n{inner_product}\\n\")\n",
        "print(f\"Outer product:\\n{outer_product}\\n\")\n",
        "print(f\"Cartesian product:\\n{cartesian_product}\")\n"
      ]
    },
    {
      "cell_type": "code",
      "execution_count": null,
      "id": "45393899",
      "metadata": {
        "id": "45393899"
      },
      "outputs": [],
      "source": [
        "#Q2: Based on NumPy Mathematics and Statistics"
      ]
    },
    {
      "cell_type": "code",
      "execution_count": null,
      "id": "22bcf7be",
      "metadata": {
        "id": "22bcf7be",
        "outputId": "319aa758-2ec4-41af-ae56-15efabcd7d18"
      },
      "outputs": [
        {
          "name": "stdout",
          "output_type": "stream",
          "text": [
            "i. Element-wise absolute value:\n",
            "[[1 2 3]\n",
            " [4 5 6]]\n",
            "\n",
            "ii. Percentiles of the flattened array (25th, 50th, 75th): [-3.5 -0.5  2.5]\n",
            "Percentiles of each column:\n",
            "[[-2.75 -0.25 -3.75]\n",
            " [-1.5   1.5  -1.5 ]\n",
            " [-0.25  3.25  0.75]]\n",
            "Percentiles of each row:\n",
            "[[-0.5 -5. ]\n",
            " [ 1.  -4. ]\n",
            " [ 2.   0.5]]\n",
            "\n",
            "iii. Flattened array: Mean = -0.5, Median = -0.5, Std Dev = 3.8622100754188224\n",
            "Columns: Mean = [-1.5  1.5 -1.5], Median = [-1.5  1.5 -1.5], Std Dev = [2.5 3.5 4.5]\n",
            "Rows: Mean = [ 0.66666667 -1.66666667], Median = [ 1. -4.], Std Dev = [2.05480467 4.78423336]\n"
          ]
        }
      ],
      "source": [
        "# (A)\n",
        "import numpy as np\n",
        "array = np.array([[1, -2, 3], [-4, 5, -6]])\n",
        "\n",
        "# i. Element-wise absolute value\n",
        "abs_array = np.abs(array)\n",
        "\n",
        "# ii. Find the 25th, 50th, and 75th percentile\n",
        "# For flattened array\n",
        "percentiles_flattened = np.percentile(array.flatten(), [25, 50, 75])\n",
        "\n",
        "# For each column\n",
        "percentiles_columns = np.percentile(array, [25, 50, 75], axis=0)\n",
        "\n",
        "# For each row\n",
        "percentiles_rows = np.percentile(array, [25, 50, 75], axis=1)\n",
        "\n",
        "# iii. Mean, Median, and Standard Deviation\n",
        "# For flattened array\n",
        "mean_flattened = np.mean(array.flatten())\n",
        "median_flattened = np.median(array.flatten())\n",
        "std_flattened = np.std(array.flatten())\n",
        "\n",
        "# For each column\n",
        "mean_columns = np.mean(array, axis=0)\n",
        "median_columns = np.median(array, axis=0)\n",
        "std_columns = np.std(array, axis=0)\n",
        "\n",
        "# For each row\n",
        "mean_rows = np.mean(array, axis=1)\n",
        "median_rows = np.median(array, axis=1)\n",
        "std_rows = np.std(array, axis=1)\n",
        "print(f\"i. Element-wise absolute value:\\n{abs_array}\\n\")\n",
        "\n",
        "print(f\"ii. Percentiles of the flattened array (25th, 50th, 75th): {percentiles_flattened}\")\n",
        "print(f\"Percentiles of each column:\\n{percentiles_columns}\")\n",
        "print(f\"Percentiles of each row:\\n{percentiles_rows}\\n\")\n",
        "\n",
        "print(f\"iii. Flattened array: Mean = {mean_flattened}, Median = {median_flattened}, Std Dev = {std_flattened}\")\n",
        "print(f\"Columns: Mean = {mean_columns}, Median = {median_columns}, Std Dev = {std_columns}\")\n",
        "print(f\"Rows: Mean = {mean_rows}, Median = {median_rows}, Std Dev = {std_rows}\")\n"
      ]
    },
    {
      "cell_type": "code",
      "execution_count": null,
      "id": "de675f2b",
      "metadata": {
        "id": "de675f2b",
        "outputId": "c53cabb6-a0b3-4533-d498-b0c478cf3619"
      },
      "outputs": [
        {
          "name": "stdout",
          "output_type": "stream",
          "text": [
            "Original array: [-1.8 -1.6 -0.5  0.5  1.6  1.8  3. ]\n",
            "\n",
            "Floor values: [-2. -2. -1.  0.  1.  1.  3.]\n",
            "Ceiling values: [-1. -1. -0.  1.  2.  2.  3.]\n",
            "Truncated values: [-1. -1. -0.  0.  1.  1.  3.]\n",
            "Rounded values: [-2. -2. -0.  0.  2.  2.  3.]\n"
          ]
        }
      ],
      "source": [
        "#(b)\n",
        "import numpy as np\n",
        "a = np.array([-1.8, -1.6, -0.5, 0.5, 1.6, 1.8, 3.0])\n",
        "\n",
        "# Floor values\n",
        "floor_values = np.floor(a)\n",
        "\n",
        "# Ceiling values\n",
        "ceiling_values = np.ceil(a)\n",
        "\n",
        "# Truncated values (truncate towards zero)\n",
        "truncated_values = np.trunc(a)\n",
        "\n",
        "# Rounded values\n",
        "rounded_values = np.round(a)\n",
        "print(f\"Original array: {a}\\n\")\n",
        "print(f\"Floor values: {floor_values}\")\n",
        "print(f\"Ceiling values: {ceiling_values}\")\n",
        "print(f\"Truncated values: {truncated_values}\")\n",
        "print(f\"Rounded values: {rounded_values}\")\n"
      ]
    },
    {
      "cell_type": "code",
      "execution_count": null,
      "id": "d361ecae",
      "metadata": {
        "id": "d361ecae"
      },
      "outputs": [],
      "source": [
        "#Q3: Based on Searching and Sorting"
      ]
    },
    {
      "cell_type": "code",
      "execution_count": null,
      "id": "47b63cab",
      "metadata": {
        "id": "47b63cab",
        "outputId": "7923105d-d68d-48ef-b283-1bea55c573ef"
      },
      "outputs": [
        {
          "name": "stdout",
          "output_type": "stream",
          "text": [
            "Original array: [ 10  52  62  16  16  54 453]\n",
            "\n",
            "Sorted array: [ 10  16  16  52  54  62 453]\n",
            "Indices of sorted array: [0 3 4 1 5 2 6]\n",
            "4 smallest elements: [10 16 16 52]\n",
            "5 largest elements: [ 16  52  54  62 453]\n"
          ]
        }
      ],
      "source": [
        "#(a)\n",
        "import numpy as np\n",
        "array = np.array([10, 52, 62, 16, 16, 54, 453])\n",
        "\n",
        "# i. Sorted array\n",
        "sorted_array = np.sort(array)\n",
        "\n",
        "# ii. Indices of the sorted array\n",
        "sorted_indices = np.argsort(array)\n",
        "\n",
        "# iii. 4 smallest elements\n",
        "smallest_elements = np.sort(array)[:4]\n",
        "\n",
        "# iv. 5 largest elements\n",
        "largest_elements = np.sort(array)[-5:]\n",
        "print(f\"Original array: {array}\\n\")\n",
        "print(f\"Sorted array: {sorted_array}\")\n",
        "print(f\"Indices of sorted array: {sorted_indices}\")\n",
        "print(f\"4 smallest elements: {smallest_elements}\")\n",
        "print(f\"5 largest elements: {largest_elements}\")\n"
      ]
    },
    {
      "cell_type": "code",
      "execution_count": null,
      "id": "e33a1d79",
      "metadata": {
        "id": "e33a1d79",
        "outputId": "460e2b35-65f4-4725-e614-e7f040a5f84a"
      },
      "outputs": [
        {
          "name": "stdout",
          "output_type": "stream",
          "text": [
            "Original array: [1.  1.2 2.2 2.  3.  2. ]\n",
            "\n",
            "Integer elements only: [1. 2. 3. 2.]\n",
            "Float elements only: [1.2 2.2]\n"
          ]
        }
      ],
      "source": [
        "#(b)\n",
        "import numpy as np\n",
        "array = np.array([1.0, 1.2, 2.2, 2.0, 3.0, 2.0])\n",
        "\n",
        "# i. Integer elements only (where the element is equal to its integer representation)\n",
        "integer_elements = array[array == array.astype(int)]\n",
        "\n",
        "# ii. Float elements only (where the element is not equal to its integer representation)\n",
        "float_elements = array[array != array.astype(int)]\n",
        "print(f\"Original array: {array}\\n\")\n",
        "print(f\"Integer elements only: {integer_elements}\")\n",
        "print(f\"Float elements only: {float_elements}\")\n"
      ]
    }
  ],
  "metadata": {
    "kernelspec": {
      "display_name": "Python 3 (ipykernel)",
      "language": "python",
      "name": "python3"
    },
    "language_info": {
      "codemirror_mode": {
        "name": "ipython",
        "version": 3
      },
      "file_extension": ".py",
      "mimetype": "text/x-python",
      "name": "python",
      "nbconvert_exporter": "python",
      "pygments_lexer": "ipython3",
      "version": "3.12.0"
    },
    "colab": {
      "provenance": [],
      "include_colab_link": true
    }
  },
  "nbformat": 4,
  "nbformat_minor": 5
}